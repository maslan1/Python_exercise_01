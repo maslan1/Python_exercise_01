{
  "nbformat": 4,
  "nbformat_minor": 0,
  "metadata": {
    "colab": {
      "name": "Kopie von Statistics Assignment-2.ipynb",
      "provenance": [],
      "collapsed_sections": [],
      "include_colab_link": true
    },
    "kernelspec": {
      "name": "python3",
      "display_name": "Python 3"
    }
  },
  "cells": [
    {
      "cell_type": "markdown",
      "metadata": {
        "id": "view-in-github",
        "colab_type": "text"
      },
      "source": [
        "<a href=\"https://colab.research.google.com/github/mehmet-0101/Python_exercise_01/blob/master/Kopie_von_Statistics_Assignment_2.ipynb\" target=\"_parent\"><img src=\"https://colab.research.google.com/assets/colab-badge.svg\" alt=\"Open In Colab\"/></a>"
      ]
    },
    {
      "cell_type": "markdown",
      "metadata": {
        "id": "K7S4cEyZLTp7"
      },
      "source": [
        "## Descriptive Statistics"
      ]
    },
    {
      "cell_type": "code",
      "metadata": {
        "id": "CCZJzVnVT8bw"
      },
      "source": [
        ""
      ],
      "execution_count": null,
      "outputs": []
    },
    {
      "cell_type": "markdown",
      "metadata": {
        "id": "vZRYVyc8H7hi"
      },
      "source": [
        " Import **NumPy**, **SciPy**, and **Pandas**"
      ]
    },
    {
      "cell_type": "code",
      "metadata": {
        "id": "7ShN0klrHIk3"
      },
      "source": [
        "import numpy as np\n",
        "from scipy import stats\n",
        "import pandas as pd"
      ],
      "execution_count": 8,
      "outputs": []
    },
    {
      "cell_type": "markdown",
      "metadata": {
        "id": "_SaQURIqIA6d"
      },
      "source": [
        " Randomly generate 1,000 samples from the normal distribution using `np.random.normal()`(mean = 100, standard deviation = 15)"
      ]
    },
    {
      "cell_type": "code",
      "metadata": {
        "id": "Jyw_FMX0IRkm",
        "colab": {
          "base_uri": "https://localhost:8080/",
          "height": 133
        },
        "outputId": "3813e2aa-8b05-4aff-da96-1ad301282cb1"
      },
      "source": [
        "samples = np.random.normal(loc = 100, scale = 15, 1000)"
      ],
      "execution_count": 16,
      "outputs": [
        {
          "output_type": "error",
          "ename": "SyntaxError",
          "evalue": "ignored",
          "traceback": [
            "\u001b[0;36m  File \u001b[0;32m\"<ipython-input-16-27027f6204e4>\"\u001b[0;36m, line \u001b[0;32m1\u001b[0m\n\u001b[0;31m    samples = np.random.normal(loc = 100, scale = 15, 1000)\u001b[0m\n\u001b[0m                                                     ^\u001b[0m\n\u001b[0;31mSyntaxError\u001b[0m\u001b[0;31m:\u001b[0m positional argument follows keyword argument\n"
          ]
        }
      ]
    },
    {
      "cell_type": "markdown",
      "metadata": {
        "id": "CDF8m3a4IYOC"
      },
      "source": [
        "Compute the **mean**, **median**, and **mode**"
      ]
    },
    {
      "cell_type": "code",
      "metadata": {
        "id": "ZKbeqxaKIoNs",
        "colab": {
          "base_uri": "https://localhost:8080/"
        },
        "outputId": "4c1d087c-2fb8-4088-8aa7-0f3830714542"
      },
      "source": [
        "print(\"mean = \", np.mean(samples))\n",
        "print(\"median = \", np.median(samples))\n",
        "print(\"mode = \", stats.mode(samples))"
      ],
      "execution_count": 12,
      "outputs": [
        {
          "output_type": "stream",
          "name": "stdout",
          "text": [
            "mean =  108.83880511600681\n",
            "median =  108.83880511600681\n",
            "mode =  ModeResult(mode=array([108.83880512]), count=array([1]))\n"
          ]
        }
      ]
    },
    {
      "cell_type": "markdown",
      "metadata": {
        "id": "skT8m39XI60w"
      },
      "source": [
        "Compute the **min**, **max**, **Q1**, **Q3**, and **interquartile range**"
      ]
    },
    {
      "cell_type": "code",
      "metadata": {
        "id": "VaiDphm8It0O"
      },
      "source": [
        "min = print(\"min = \", np.min(samples))\n",
        "max = print(\"min = \", np.max(samples))\n",
        "q1 =  print(\"Q1 = \", np.percentile(samples,25))\n",
        "q3 =  print(\"Q3 = \", np.percentile(samples,75))\n",
        "iqr = print(\"IQR:\", (stats.iqr(samples)))"
      ],
      "execution_count": null,
      "outputs": []
    },
    {
      "cell_type": "markdown",
      "metadata": {
        "id": "m53Dv3n5JHQi"
      },
      "source": [
        "Compute the **variance** and **standard deviation**"
      ]
    },
    {
      "cell_type": "code",
      "metadata": {
        "id": "6JFaAYdrJbeN"
      },
      "source": [
        "variance = print(\"Variance: \", (np.var(samples)))\n",
        "std_dev =  print(\"Variance: \", (np.std(samples)))"
      ],
      "execution_count": null,
      "outputs": []
    },
    {
      "cell_type": "markdown",
      "metadata": {
        "id": "5eup4hI1JzqX"
      },
      "source": [
        "Compute the **skewness** and **kurtosis**"
      ]
    },
    {
      "cell_type": "code",
      "metadata": {
        "id": "YO3obyDnJ3_D"
      },
      "source": [
        "skewness = \n",
        "kurtosis ="
      ],
      "execution_count": null,
      "outputs": []
    },
    {
      "cell_type": "markdown",
      "metadata": {
        "id": "a5UNc8PUKnbU"
      },
      "source": [
        "## NumPy Correlation Calculation"
      ]
    },
    {
      "cell_type": "markdown",
      "metadata": {
        "id": "cLiqxE1CMNTg"
      },
      "source": [
        "Create an array x of integers between 10 (inclusive) and 20 (exclusive). Use `np.arange()`"
      ]
    },
    {
      "cell_type": "code",
      "metadata": {
        "id": "5LAaQ6w5L-2L"
      },
      "source": [
        "x = "
      ],
      "execution_count": null,
      "outputs": []
    },
    {
      "cell_type": "markdown",
      "metadata": {
        "id": "qyCIaukNMZPf"
      },
      "source": [
        "Then use `np.array()` to create a second array y containing 10 arbitrary integers."
      ]
    },
    {
      "cell_type": "code",
      "metadata": {
        "id": "p27eW__gNMdh"
      },
      "source": [
        "y = "
      ],
      "execution_count": null,
      "outputs": []
    },
    {
      "cell_type": "markdown",
      "metadata": {
        "id": "Kh_VeKwINSqS"
      },
      "source": [
        "Once you have two arrays of the same length, you can compute the **correlation coefficient** between x and y"
      ]
    },
    {
      "cell_type": "code",
      "metadata": {
        "id": "yrtC6rPkNSDC"
      },
      "source": [
        "r = "
      ],
      "execution_count": null,
      "outputs": []
    },
    {
      "cell_type": "markdown",
      "metadata": {
        "id": "vXieLjYiNtPi"
      },
      "source": [
        "## Pandas Correlation Calculation"
      ]
    },
    {
      "cell_type": "markdown",
      "metadata": {
        "id": "z56t0k0qNvkr"
      },
      "source": [
        "Run the code below"
      ]
    },
    {
      "cell_type": "code",
      "metadata": {
        "id": "9AVBMJCyNuwb"
      },
      "source": [
        "x = pd.Series(range(10, 20))\n",
        "y = pd.Series([2, 1, 4, 5, 8, 12, 18, 25, 96, 48])"
      ],
      "execution_count": null,
      "outputs": []
    },
    {
      "cell_type": "markdown",
      "metadata": {
        "id": "ZajVXYe2OCih"
      },
      "source": [
        "Call the relevant method  to calculate Pearson's r correlation."
      ]
    },
    {
      "cell_type": "code",
      "metadata": {
        "id": "Ak_rkzbLOafj"
      },
      "source": [
        "r ="
      ],
      "execution_count": null,
      "outputs": []
    },
    {
      "cell_type": "markdown",
      "metadata": {
        "id": "1CygSbnROb9V"
      },
      "source": [
        "OPTIONAL. Call the relevant method to calculate Spearman's rho correlation."
      ]
    },
    {
      "cell_type": "code",
      "metadata": {
        "id": "xp_QkXwmOlYY"
      },
      "source": [
        "rho ="
      ],
      "execution_count": null,
      "outputs": []
    },
    {
      "cell_type": "markdown",
      "metadata": {
        "id": "we7pg7kdOo7y"
      },
      "source": [
        "## Seaborn Dataset Tips"
      ]
    },
    {
      "cell_type": "markdown",
      "metadata": {
        "id": "VlzgFKN7OvqX"
      },
      "source": [
        "Import Seaborn Library"
      ]
    },
    {
      "cell_type": "code",
      "metadata": {
        "id": "t-49JRRqO4pw"
      },
      "source": [
        "import "
      ],
      "execution_count": null,
      "outputs": []
    },
    {
      "cell_type": "markdown",
      "metadata": {
        "id": "0INVBB4tO4y4"
      },
      "source": [
        "Load \"tips\" dataset from Seaborn"
      ]
    },
    {
      "cell_type": "code",
      "metadata": {
        "id": "kieLvcM1PBv7"
      },
      "source": [
        "tips = sns.load_dataset(\"tips\")"
      ],
      "execution_count": null,
      "outputs": []
    },
    {
      "cell_type": "markdown",
      "metadata": {
        "id": "o2ISqVQrPh5S"
      },
      "source": [
        "Generate descriptive statistics include those that summarize the central tendency, dispersion"
      ]
    },
    {
      "cell_type": "code",
      "metadata": {
        "id": "FyFvmdbJPVg6"
      },
      "source": [
        ""
      ],
      "execution_count": null,
      "outputs": []
    },
    {
      "cell_type": "markdown",
      "metadata": {
        "id": "3yCRK4VJPzRo"
      },
      "source": [
        "Call the relevant method to calculate pairwise Pearson's r correlation of columns"
      ]
    },
    {
      "cell_type": "code",
      "metadata": {
        "id": "qwvGzDU8PGnM"
      },
      "source": [
        ""
      ],
      "execution_count": null,
      "outputs": []
    }
  ]
}